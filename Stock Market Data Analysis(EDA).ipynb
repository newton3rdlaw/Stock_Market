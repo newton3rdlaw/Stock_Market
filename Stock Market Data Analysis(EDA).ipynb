{
 "cells": [
  {
   "cell_type": "markdown",
   "id": "bb8b362a",
   "metadata": {},
   "source": [
    "## Stock Market Data Analysis (EDA_Python) "
   ]
  },
  {
   "cell_type": "markdown",
   "id": "d0620f89",
   "metadata": {},
   "source": [
    "## Introduction:\n",
    "Stock Market Analysis and Prediction is the project related to Exploratory data analysis(EDA), Data visualization and Predictive analysis using data, provided by [The Investors Exchange (IEX)](https://iextrading.com/apps/stocks/). I looked at real-time financial data from the stock market. I have used python libraries to get stock information, visualize different aspects of it, and finally I worked at a few ways of analyzing the risk of a stock, based on its previous performance history. I have also used statistical method called **Monte Carlo Method** to predict future stock prices.\n",
    "\n",
    "### Dataset description:\n",
    "- **Date**: Date set by a company on which the investor must own shares.\n",
    "- **Open**: Open refers the starting period (day) of trading.\n",
    "- **High**: High refers highest price at which a stock is traded during a period.\n",
    "- **Low**: Low refers the minimum price of a stock in a period.\n",
    "- **Closed**: Closed refers the price of an individual stock when the stock exchange closed shop for the day.\n",
    "- **Adj Close**: Adj Close refers Adjusted closing price.\n",
    "- **Volume**: Volume refers an indicator of liquidity.\n",
    "\n",
    "### We'll be answering the following questions by using Exploratory Data Analysis:\n",
    "\n",
    "1. What was the change in price of the stock over time?\n",
    "2. What was the daily return of the stock on average?\n",
    "3. What was the moving average of the various stocks?\n",
    "4. What was the correlation between different stocks 'closing prices'?\n",
    "5. What was the correlation between different stocks 'daily returns'?\n",
    "6. How much value do we put at risk by investing in a particular stock?\n",
    "7. How can we attempt to predict future stock behavior?\n",
    "\n",
    "### Basic Analysis of Stock Information\n",
    "In this section we'll go over how to handle requesting stock information with pandas and how to analyze basic attributes of a stock."
   ]
  },
  {
   "cell_type": "markdown",
   "id": "acbee522",
   "metadata": {},
   "source": [
    "### Import Modules/ Libraries\n"
   ]
  },
  {
   "cell_type": "markdown",
   "id": "7fa6fc3a",
   "metadata": {},
   "source": [
    "**yfinance**: A library to download financial market data from Yahoo Finance.This can be used to download stock market data from India as well as other global market."
   ]
  },
  {
   "cell_type": "code",
   "execution_count": 1,
   "id": "33eb4724",
   "metadata": {},
   "outputs": [
    {
     "name": "stdout",
     "output_type": "stream",
     "text": [
      "Defaulting to user installation because normal site-packages is not writeable\n",
      "Requirement already satisfied: yfinance in c:\\users\\user\\appdata\\roaming\\python\\python39\\site-packages (0.2.4)\n",
      "Requirement already satisfied: requests>=2.26 in f:\\my apps\\anaconda\\conda\\lib\\site-packages (from yfinance) (2.27.1)\n",
      "Requirement already satisfied: html5lib>=1.1 in c:\\users\\user\\appdata\\roaming\\python\\python39\\site-packages (from yfinance) (1.1)\n",
      "Requirement already satisfied: lxml>=4.9.1 in c:\\users\\user\\appdata\\roaming\\python\\python39\\site-packages (from yfinance) (4.9.2)\n",
      "Requirement already satisfied: frozendict>=2.3.4 in c:\\users\\user\\appdata\\roaming\\python\\python39\\site-packages (from yfinance) (2.3.4)\n",
      "Requirement already satisfied: beautifulsoup4>=4.11.1 in f:\\my apps\\anaconda\\conda\\lib\\site-packages (from yfinance) (4.11.1)\n",
      "Requirement already satisfied: numpy>=1.16.5 in f:\\my apps\\anaconda\\conda\\lib\\site-packages (from yfinance) (1.21.5)\n",
      "Requirement already satisfied: cryptography>=3.3.2 in f:\\my apps\\anaconda\\conda\\lib\\site-packages (from yfinance) (3.4.8)\n",
      "Requirement already satisfied: multitasking>=0.0.7 in c:\\users\\user\\appdata\\roaming\\python\\python39\\site-packages (from yfinance) (0.0.11)\n",
      "Requirement already satisfied: pandas>=1.3.0 in f:\\my apps\\anaconda\\conda\\lib\\site-packages (from yfinance) (1.4.2)\n",
      "Requirement already satisfied: appdirs>=1.4.4 in f:\\my apps\\anaconda\\conda\\lib\\site-packages (from yfinance) (1.4.4)\n",
      "Requirement already satisfied: pytz>=2022.5 in c:\\users\\user\\appdata\\roaming\\python\\python39\\site-packages (from yfinance) (2022.7.1)\n",
      "Requirement already satisfied: soupsieve>1.2 in f:\\my apps\\anaconda\\conda\\lib\\site-packages (from beautifulsoup4>=4.11.1->yfinance) (2.3.1)\n",
      "Requirement already satisfied: cffi>=1.12 in f:\\my apps\\anaconda\\conda\\lib\\site-packages (from cryptography>=3.3.2->yfinance) (1.15.0)\n",
      "Requirement already satisfied: pycparser in f:\\my apps\\anaconda\\conda\\lib\\site-packages (from cffi>=1.12->cryptography>=3.3.2->yfinance) (2.21)\n",
      "Requirement already satisfied: webencodings in f:\\my apps\\anaconda\\conda\\lib\\site-packages (from html5lib>=1.1->yfinance) (0.5.1)\n",
      "Requirement already satisfied: six>=1.9 in f:\\my apps\\anaconda\\conda\\lib\\site-packages (from html5lib>=1.1->yfinance) (1.16.0)\n",
      "Requirement already satisfied: python-dateutil>=2.8.1 in f:\\my apps\\anaconda\\conda\\lib\\site-packages (from pandas>=1.3.0->yfinance) (2.8.2)\n",
      "Requirement already satisfied: urllib3<1.27,>=1.21.1 in f:\\my apps\\anaconda\\conda\\lib\\site-packages (from requests>=2.26->yfinance) (1.26.9)\n",
      "Requirement already satisfied: certifi>=2017.4.17 in f:\\my apps\\anaconda\\conda\\lib\\site-packages (from requests>=2.26->yfinance) (2021.10.8)\n",
      "Requirement already satisfied: idna<4,>=2.5 in f:\\my apps\\anaconda\\conda\\lib\\site-packages (from requests>=2.26->yfinance) (3.3)\n",
      "Requirement already satisfied: charset-normalizer~=2.0.0 in f:\\my apps\\anaconda\\conda\\lib\\site-packages (from requests>=2.26->yfinance) (2.0.4)\n",
      "Note: you may need to restart the kernel to use updated packages.\n"
     ]
    }
   ],
   "source": [
    "pip install yfinance"
   ]
  },
  {
   "cell_type": "code",
   "execution_count": 2,
   "id": "379f8385",
   "metadata": {},
   "outputs": [],
   "source": [
    "import os\n",
    "import pandas as pd                  # for Data Manupulation\n",
    "import numpy as np                   # for numerical python\n",
    "import matplotlib.pyplot as plt      #for data visualization\n",
    "from pandas import Series,DataFrame\n",
    "import seaborn as sns                #for data visualization\n",
    "sns.set_style('whitegrid')\n",
    "%matplotlib inline\n",
    "import yfinance as yf"
   ]
  },
  {
   "cell_type": "code",
   "execution_count": 3,
   "id": "156bb3c2",
   "metadata": {},
   "outputs": [],
   "source": [
    "# to get rid of import error of pandas_datareader\n",
    "import pandas_datareader as pdr        #for reading stock data from investor Exchange\n",
    "from datetime import datetime          # for time stamp\n",
    "#from __future__ import division         #for division"
   ]
  },
  {
   "cell_type": "markdown",
   "id": "20f2c755",
   "metadata": {},
   "source": [
    "**pandas_datareader** \n",
    "- remote data access for pandas to extract data from various Internet sources into a pandas DataFrame"
   ]
  },
  {
   "cell_type": "code",
   "execution_count": 4,
   "id": "d253d490",
   "metadata": {},
   "outputs": [
    {
     "name": "stdout",
     "output_type": "stream",
     "text": [
      "Defaulting to user installation because normal site-packages is not writeable\n",
      "Requirement already satisfied: pandas-datareader in c:\\users\\user\\appdata\\roaming\\python\\python39\\site-packages (0.10.0)\n",
      "Requirement already satisfied: requests>=2.19.0 in f:\\my apps\\anaconda\\conda\\lib\\site-packages (from pandas-datareader) (2.27.1)\n",
      "Requirement already satisfied: pandas>=0.23 in f:\\my apps\\anaconda\\conda\\lib\\site-packages (from pandas-datareader) (1.4.2)\n",
      "Requirement already satisfied: lxml in c:\\users\\user\\appdata\\roaming\\python\\python39\\site-packages (from pandas-datareader) (4.9.2)\n",
      "Requirement already satisfied: python-dateutil>=2.8.1 in f:\\my apps\\anaconda\\conda\\lib\\site-packages (from pandas>=0.23->pandas-datareader) (2.8.2)\n",
      "Requirement already satisfied: pytz>=2020.1 in c:\\users\\user\\appdata\\roaming\\python\\python39\\site-packages (from pandas>=0.23->pandas-datareader) (2022.7.1)\n",
      "Requirement already satisfied: numpy>=1.18.5 in f:\\my apps\\anaconda\\conda\\lib\\site-packages (from pandas>=0.23->pandas-datareader) (1.21.5)\n",
      "Requirement already satisfied: six>=1.5 in f:\\my apps\\anaconda\\conda\\lib\\site-packages (from python-dateutil>=2.8.1->pandas>=0.23->pandas-datareader) (1.16.0)\n",
      "Requirement already satisfied: certifi>=2017.4.17 in f:\\my apps\\anaconda\\conda\\lib\\site-packages (from requests>=2.19.0->pandas-datareader) (2021.10.8)\n",
      "Requirement already satisfied: urllib3<1.27,>=1.21.1 in f:\\my apps\\anaconda\\conda\\lib\\site-packages (from requests>=2.19.0->pandas-datareader) (1.26.9)\n",
      "Requirement already satisfied: charset-normalizer~=2.0.0 in f:\\my apps\\anaconda\\conda\\lib\\site-packages (from requests>=2.19.0->pandas-datareader) (2.0.4)\n",
      "Requirement already satisfied: idna<4,>=2.5 in f:\\my apps\\anaconda\\conda\\lib\\site-packages (from requests>=2.19.0->pandas-datareader) (3.3)\n",
      "Note: you may need to restart the kernel to use updated packages.\n"
     ]
    }
   ],
   "source": [
    "pip install pandas-datareader"
   ]
  },
  {
   "cell_type": "markdown",
   "id": "3f5c6620",
   "metadata": {},
   "source": [
    "### Load Dataset\n",
    "- Download the Historical stock data for specific company listed in the Indian Stock Market using yfinance library.\n",
    "- Here I extract reliance finace data from last 1 years.\n",
    "\n",
    "Ex: 1. **IEX**\n",
    "- The Investors Exchange (IEX) provides a wide range of data through an API.\n",
    "- Historical stock prices are available for up to 15 years."
   ]
  },
  {
   "cell_type": "code",
   "execution_count": 7,
   "id": "1539ea3d",
   "metadata": {},
   "outputs": [
    {
     "name": "stdout",
     "output_type": "stream",
     "text": [
      "[*********************100%***********************]  1 of 1 completed\n"
     ]
    }
   ],
   "source": [
    "stock = 'RELIANCE.NS'\n",
    "\n",
    "rel_data = yf.download(stock, start ='2022-02-01', end  = '2023-04-23')"
   ]
  },
  {
   "cell_type": "code",
   "execution_count": 8,
   "id": "4fa959dd",
   "metadata": {},
   "outputs": [
    {
     "data": {
      "text/html": [
       "<div>\n",
       "<style scoped>\n",
       "    .dataframe tbody tr th:only-of-type {\n",
       "        vertical-align: middle;\n",
       "    }\n",
       "\n",
       "    .dataframe tbody tr th {\n",
       "        vertical-align: top;\n",
       "    }\n",
       "\n",
       "    .dataframe thead th {\n",
       "        text-align: right;\n",
       "    }\n",
       "</style>\n",
       "<table border=\"1\" class=\"dataframe\">\n",
       "  <thead>\n",
       "    <tr style=\"text-align: right;\">\n",
       "      <th></th>\n",
       "      <th>Open</th>\n",
       "      <th>High</th>\n",
       "      <th>Low</th>\n",
       "      <th>Close</th>\n",
       "      <th>Adj Close</th>\n",
       "      <th>Volume</th>\n",
       "    </tr>\n",
       "    <tr>\n",
       "      <th>Date</th>\n",
       "      <th></th>\n",
       "      <th></th>\n",
       "      <th></th>\n",
       "      <th></th>\n",
       "      <th></th>\n",
       "      <th></th>\n",
       "    </tr>\n",
       "  </thead>\n",
       "  <tbody>\n",
       "    <tr>\n",
       "      <th>2022-02-01 00:00:00+05:30</th>\n",
       "      <td>2408.0</td>\n",
       "      <td>2420.600098</td>\n",
       "      <td>2347.100098</td>\n",
       "      <td>2378.699951</td>\n",
       "      <td>2371.559814</td>\n",
       "      <td>6092033</td>\n",
       "    </tr>\n",
       "    <tr>\n",
       "      <th>2022-02-02 00:00:00+05:30</th>\n",
       "      <td>2407.0</td>\n",
       "      <td>2407.000000</td>\n",
       "      <td>2375.100098</td>\n",
       "      <td>2383.550049</td>\n",
       "      <td>2376.395264</td>\n",
       "      <td>4623163</td>\n",
       "    </tr>\n",
       "    <tr>\n",
       "      <th>2022-02-03 00:00:00+05:30</th>\n",
       "      <td>2392.0</td>\n",
       "      <td>2401.449951</td>\n",
       "      <td>2347.199951</td>\n",
       "      <td>2352.750000</td>\n",
       "      <td>2345.687744</td>\n",
       "      <td>4417864</td>\n",
       "    </tr>\n",
       "    <tr>\n",
       "      <th>2022-02-04 00:00:00+05:30</th>\n",
       "      <td>2341.0</td>\n",
       "      <td>2348.449951</td>\n",
       "      <td>2321.100098</td>\n",
       "      <td>2331.300049</td>\n",
       "      <td>2324.302246</td>\n",
       "      <td>5104761</td>\n",
       "    </tr>\n",
       "    <tr>\n",
       "      <th>2022-02-07 00:00:00+05:30</th>\n",
       "      <td>2342.0</td>\n",
       "      <td>2356.800049</td>\n",
       "      <td>2305.000000</td>\n",
       "      <td>2317.100098</td>\n",
       "      <td>2310.144775</td>\n",
       "      <td>4944725</td>\n",
       "    </tr>\n",
       "  </tbody>\n",
       "</table>\n",
       "</div>"
      ],
      "text/plain": [
       "                             Open         High          Low        Close  \\\n",
       "Date                                                                       \n",
       "2022-02-01 00:00:00+05:30  2408.0  2420.600098  2347.100098  2378.699951   \n",
       "2022-02-02 00:00:00+05:30  2407.0  2407.000000  2375.100098  2383.550049   \n",
       "2022-02-03 00:00:00+05:30  2392.0  2401.449951  2347.199951  2352.750000   \n",
       "2022-02-04 00:00:00+05:30  2341.0  2348.449951  2321.100098  2331.300049   \n",
       "2022-02-07 00:00:00+05:30  2342.0  2356.800049  2305.000000  2317.100098   \n",
       "\n",
       "                             Adj Close   Volume  \n",
       "Date                                             \n",
       "2022-02-01 00:00:00+05:30  2371.559814  6092033  \n",
       "2022-02-02 00:00:00+05:30  2376.395264  4623163  \n",
       "2022-02-03 00:00:00+05:30  2345.687744  4417864  \n",
       "2022-02-04 00:00:00+05:30  2324.302246  5104761  \n",
       "2022-02-07 00:00:00+05:30  2310.144775  4944725  "
      ]
     },
     "execution_count": 8,
     "metadata": {},
     "output_type": "execute_result"
    }
   ],
   "source": [
    "rel_data.head()             # for top 5 rows"
   ]
  },
  {
   "cell_type": "code",
   "execution_count": 9,
   "id": "7c8a8552",
   "metadata": {},
   "outputs": [
    {
     "data": {
      "text/html": [
       "<div>\n",
       "<style scoped>\n",
       "    .dataframe tbody tr th:only-of-type {\n",
       "        vertical-align: middle;\n",
       "    }\n",
       "\n",
       "    .dataframe tbody tr th {\n",
       "        vertical-align: top;\n",
       "    }\n",
       "\n",
       "    .dataframe thead th {\n",
       "        text-align: right;\n",
       "    }\n",
       "</style>\n",
       "<table border=\"1\" class=\"dataframe\">\n",
       "  <thead>\n",
       "    <tr style=\"text-align: right;\">\n",
       "      <th></th>\n",
       "      <th>Open</th>\n",
       "      <th>High</th>\n",
       "      <th>Low</th>\n",
       "      <th>Close</th>\n",
       "      <th>Adj Close</th>\n",
       "      <th>Volume</th>\n",
       "    </tr>\n",
       "    <tr>\n",
       "      <th>Date</th>\n",
       "      <th></th>\n",
       "      <th></th>\n",
       "      <th></th>\n",
       "      <th></th>\n",
       "      <th></th>\n",
       "      <th></th>\n",
       "    </tr>\n",
       "  </thead>\n",
       "  <tbody>\n",
       "    <tr>\n",
       "      <th>2023-04-17 00:00:00+05:30</th>\n",
       "      <td>2424.949951</td>\n",
       "      <td>2424.949951</td>\n",
       "      <td>2349.050049</td>\n",
       "      <td>2367.449951</td>\n",
       "      <td>2367.449951</td>\n",
       "      <td>8274452</td>\n",
       "    </tr>\n",
       "    <tr>\n",
       "      <th>2023-04-18 00:00:00+05:30</th>\n",
       "      <td>2377.000000</td>\n",
       "      <td>2377.000000</td>\n",
       "      <td>2326.000000</td>\n",
       "      <td>2340.350098</td>\n",
       "      <td>2340.350098</td>\n",
       "      <td>4802172</td>\n",
       "    </tr>\n",
       "    <tr>\n",
       "      <th>2023-04-19 00:00:00+05:30</th>\n",
       "      <td>2339.050049</td>\n",
       "      <td>2357.899902</td>\n",
       "      <td>2332.199951</td>\n",
       "      <td>2352.000000</td>\n",
       "      <td>2352.000000</td>\n",
       "      <td>5664207</td>\n",
       "    </tr>\n",
       "    <tr>\n",
       "      <th>2023-04-20 00:00:00+05:30</th>\n",
       "      <td>2354.100098</td>\n",
       "      <td>2359.000000</td>\n",
       "      <td>2332.100098</td>\n",
       "      <td>2346.050049</td>\n",
       "      <td>2346.050049</td>\n",
       "      <td>3233882</td>\n",
       "    </tr>\n",
       "    <tr>\n",
       "      <th>2023-04-21 00:00:00+05:30</th>\n",
       "      <td>2350.649902</td>\n",
       "      <td>2361.000000</td>\n",
       "      <td>2336.399902</td>\n",
       "      <td>2349.000000</td>\n",
       "      <td>2349.000000</td>\n",
       "      <td>3529236</td>\n",
       "    </tr>\n",
       "  </tbody>\n",
       "</table>\n",
       "</div>"
      ],
      "text/plain": [
       "                                  Open         High          Low        Close  \\\n",
       "Date                                                                            \n",
       "2023-04-17 00:00:00+05:30  2424.949951  2424.949951  2349.050049  2367.449951   \n",
       "2023-04-18 00:00:00+05:30  2377.000000  2377.000000  2326.000000  2340.350098   \n",
       "2023-04-19 00:00:00+05:30  2339.050049  2357.899902  2332.199951  2352.000000   \n",
       "2023-04-20 00:00:00+05:30  2354.100098  2359.000000  2332.100098  2346.050049   \n",
       "2023-04-21 00:00:00+05:30  2350.649902  2361.000000  2336.399902  2349.000000   \n",
       "\n",
       "                             Adj Close   Volume  \n",
       "Date                                             \n",
       "2023-04-17 00:00:00+05:30  2367.449951  8274452  \n",
       "2023-04-18 00:00:00+05:30  2340.350098  4802172  \n",
       "2023-04-19 00:00:00+05:30  2352.000000  5664207  \n",
       "2023-04-20 00:00:00+05:30  2346.050049  3233882  \n",
       "2023-04-21 00:00:00+05:30  2349.000000  3529236  "
      ]
     },
     "execution_count": 9,
     "metadata": {},
     "output_type": "execute_result"
    }
   ],
   "source": [
    "rel_data.tail()             # for bottom 5 rows"
   ]
  },
  {
   "cell_type": "code",
   "execution_count": 10,
   "id": "418ffe3d",
   "metadata": {},
   "outputs": [
    {
     "data": {
      "text/plain": [
       "(302, 6)"
      ]
     },
     "execution_count": 10,
     "metadata": {},
     "output_type": "execute_result"
    }
   ],
   "source": [
    "rel_data.shape            # for number of rows and columns"
   ]
  },
  {
   "cell_type": "markdown",
   "id": "3eed13f5",
   "metadata": {},
   "source": [
    "- There are 302 rows & 6 columns are presents in this dataset."
   ]
  },
  {
   "cell_type": "code",
   "execution_count": 11,
   "id": "8075f1d0",
   "metadata": {},
   "outputs": [
    {
     "data": {
      "text/html": [
       "<div>\n",
       "<style scoped>\n",
       "    .dataframe tbody tr th:only-of-type {\n",
       "        vertical-align: middle;\n",
       "    }\n",
       "\n",
       "    .dataframe tbody tr th {\n",
       "        vertical-align: top;\n",
       "    }\n",
       "\n",
       "    .dataframe thead th {\n",
       "        text-align: right;\n",
       "    }\n",
       "</style>\n",
       "<table border=\"1\" class=\"dataframe\">\n",
       "  <thead>\n",
       "    <tr style=\"text-align: right;\">\n",
       "      <th></th>\n",
       "      <th>Open</th>\n",
       "      <th>High</th>\n",
       "      <th>Low</th>\n",
       "      <th>Close</th>\n",
       "      <th>Adj Close</th>\n",
       "      <th>Volume</th>\n",
       "    </tr>\n",
       "  </thead>\n",
       "  <tbody>\n",
       "    <tr>\n",
       "      <th>count</th>\n",
       "      <td>302.000000</td>\n",
       "      <td>302.000000</td>\n",
       "      <td>302.000000</td>\n",
       "      <td>302.000000</td>\n",
       "      <td>302.000000</td>\n",
       "      <td>3.020000e+02</td>\n",
       "    </tr>\n",
       "    <tr>\n",
       "      <th>mean</th>\n",
       "      <td>2495.898007</td>\n",
       "      <td>2521.673665</td>\n",
       "      <td>2469.795544</td>\n",
       "      <td>2495.121033</td>\n",
       "      <td>2491.731248</td>\n",
       "      <td>6.507032e+06</td>\n",
       "    </tr>\n",
       "    <tr>\n",
       "      <th>std</th>\n",
       "      <td>133.827034</td>\n",
       "      <td>136.337609</td>\n",
       "      <td>132.962016</td>\n",
       "      <td>134.939187</td>\n",
       "      <td>134.020720</td>\n",
       "      <td>3.477034e+06</td>\n",
       "    </tr>\n",
       "    <tr>\n",
       "      <th>min</th>\n",
       "      <td>2211.500000</td>\n",
       "      <td>2220.000000</td>\n",
       "      <td>2180.000000</td>\n",
       "      <td>2201.250000</td>\n",
       "      <td>2201.250000</td>\n",
       "      <td>1.555270e+06</td>\n",
       "    </tr>\n",
       "    <tr>\n",
       "      <th>25%</th>\n",
       "      <td>2391.625000</td>\n",
       "      <td>2414.737488</td>\n",
       "      <td>2363.500000</td>\n",
       "      <td>2382.975037</td>\n",
       "      <td>2379.407837</td>\n",
       "      <td>4.421368e+06</td>\n",
       "    </tr>\n",
       "    <tr>\n",
       "      <th>50%</th>\n",
       "      <td>2499.099976</td>\n",
       "      <td>2532.750000</td>\n",
       "      <td>2470.050049</td>\n",
       "      <td>2501.400024</td>\n",
       "      <td>2496.832886</td>\n",
       "      <td>5.770856e+06</td>\n",
       "    </tr>\n",
       "    <tr>\n",
       "      <th>75%</th>\n",
       "      <td>2597.275024</td>\n",
       "      <td>2621.162476</td>\n",
       "      <td>2571.075073</td>\n",
       "      <td>2597.649902</td>\n",
       "      <td>2597.649902</td>\n",
       "      <td>7.841054e+06</td>\n",
       "    </tr>\n",
       "    <tr>\n",
       "      <th>max</th>\n",
       "      <td>2856.149902</td>\n",
       "      <td>2856.149902</td>\n",
       "      <td>2786.100098</td>\n",
       "      <td>2819.850098</td>\n",
       "      <td>2811.385742</td>\n",
       "      <td>3.784167e+07</td>\n",
       "    </tr>\n",
       "  </tbody>\n",
       "</table>\n",
       "</div>"
      ],
      "text/plain": [
       "              Open         High          Low        Close    Adj Close  \\\n",
       "count   302.000000   302.000000   302.000000   302.000000   302.000000   \n",
       "mean   2495.898007  2521.673665  2469.795544  2495.121033  2491.731248   \n",
       "std     133.827034   136.337609   132.962016   134.939187   134.020720   \n",
       "min    2211.500000  2220.000000  2180.000000  2201.250000  2201.250000   \n",
       "25%    2391.625000  2414.737488  2363.500000  2382.975037  2379.407837   \n",
       "50%    2499.099976  2532.750000  2470.050049  2501.400024  2496.832886   \n",
       "75%    2597.275024  2621.162476  2571.075073  2597.649902  2597.649902   \n",
       "max    2856.149902  2856.149902  2786.100098  2819.850098  2811.385742   \n",
       "\n",
       "             Volume  \n",
       "count  3.020000e+02  \n",
       "mean   6.507032e+06  \n",
       "std    3.477034e+06  \n",
       "min    1.555270e+06  \n",
       "25%    4.421368e+06  \n",
       "50%    5.770856e+06  \n",
       "75%    7.841054e+06  \n",
       "max    3.784167e+07  "
      ]
     },
     "execution_count": 11,
     "metadata": {},
     "output_type": "execute_result"
    }
   ],
   "source": [
    "rel_data.describe()   # To show statistics for numerical data       "
   ]
  },
  {
   "cell_type": "code",
   "execution_count": 12,
   "id": "cfef5d41",
   "metadata": {},
   "outputs": [
    {
     "data": {
      "text/html": [
       "<div>\n",
       "<style scoped>\n",
       "    .dataframe tbody tr th:only-of-type {\n",
       "        vertical-align: middle;\n",
       "    }\n",
       "\n",
       "    .dataframe tbody tr th {\n",
       "        vertical-align: top;\n",
       "    }\n",
       "\n",
       "    .dataframe thead th {\n",
       "        text-align: right;\n",
       "    }\n",
       "</style>\n",
       "<table border=\"1\" class=\"dataframe\">\n",
       "  <thead>\n",
       "    <tr style=\"text-align: right;\">\n",
       "      <th></th>\n",
       "      <th>Open</th>\n",
       "      <th>High</th>\n",
       "      <th>Low</th>\n",
       "      <th>Close</th>\n",
       "      <th>Adj Close</th>\n",
       "      <th>Volume</th>\n",
       "    </tr>\n",
       "  </thead>\n",
       "  <tbody>\n",
       "    <tr>\n",
       "      <th>count</th>\n",
       "      <td>302.000000</td>\n",
       "      <td>302.000000</td>\n",
       "      <td>302.000000</td>\n",
       "      <td>302.000000</td>\n",
       "      <td>302.000000</td>\n",
       "      <td>3.020000e+02</td>\n",
       "    </tr>\n",
       "    <tr>\n",
       "      <th>mean</th>\n",
       "      <td>2495.898007</td>\n",
       "      <td>2521.673665</td>\n",
       "      <td>2469.795544</td>\n",
       "      <td>2495.121033</td>\n",
       "      <td>2491.731248</td>\n",
       "      <td>6.507032e+06</td>\n",
       "    </tr>\n",
       "    <tr>\n",
       "      <th>std</th>\n",
       "      <td>133.827034</td>\n",
       "      <td>136.337609</td>\n",
       "      <td>132.962016</td>\n",
       "      <td>134.939187</td>\n",
       "      <td>134.020720</td>\n",
       "      <td>3.477034e+06</td>\n",
       "    </tr>\n",
       "    <tr>\n",
       "      <th>min</th>\n",
       "      <td>2211.500000</td>\n",
       "      <td>2220.000000</td>\n",
       "      <td>2180.000000</td>\n",
       "      <td>2201.250000</td>\n",
       "      <td>2201.250000</td>\n",
       "      <td>1.555270e+06</td>\n",
       "    </tr>\n",
       "    <tr>\n",
       "      <th>25%</th>\n",
       "      <td>2391.625000</td>\n",
       "      <td>2414.737488</td>\n",
       "      <td>2363.500000</td>\n",
       "      <td>2382.975037</td>\n",
       "      <td>2379.407837</td>\n",
       "      <td>4.421368e+06</td>\n",
       "    </tr>\n",
       "    <tr>\n",
       "      <th>50%</th>\n",
       "      <td>2499.099976</td>\n",
       "      <td>2532.750000</td>\n",
       "      <td>2470.050049</td>\n",
       "      <td>2501.400024</td>\n",
       "      <td>2496.832886</td>\n",
       "      <td>5.770856e+06</td>\n",
       "    </tr>\n",
       "    <tr>\n",
       "      <th>75%</th>\n",
       "      <td>2597.275024</td>\n",
       "      <td>2621.162476</td>\n",
       "      <td>2571.075073</td>\n",
       "      <td>2597.649902</td>\n",
       "      <td>2597.649902</td>\n",
       "      <td>7.841054e+06</td>\n",
       "    </tr>\n",
       "    <tr>\n",
       "      <th>max</th>\n",
       "      <td>2856.149902</td>\n",
       "      <td>2856.149902</td>\n",
       "      <td>2786.100098</td>\n",
       "      <td>2819.850098</td>\n",
       "      <td>2811.385742</td>\n",
       "      <td>3.784167e+07</td>\n",
       "    </tr>\n",
       "  </tbody>\n",
       "</table>\n",
       "</div>"
      ],
      "text/plain": [
       "              Open         High          Low        Close    Adj Close  \\\n",
       "count   302.000000   302.000000   302.000000   302.000000   302.000000   \n",
       "mean   2495.898007  2521.673665  2469.795544  2495.121033  2491.731248   \n",
       "std     133.827034   136.337609   132.962016   134.939187   134.020720   \n",
       "min    2211.500000  2220.000000  2180.000000  2201.250000  2201.250000   \n",
       "25%    2391.625000  2414.737488  2363.500000  2382.975037  2379.407837   \n",
       "50%    2499.099976  2532.750000  2470.050049  2501.400024  2496.832886   \n",
       "75%    2597.275024  2621.162476  2571.075073  2597.649902  2597.649902   \n",
       "max    2856.149902  2856.149902  2786.100098  2819.850098  2811.385742   \n",
       "\n",
       "             Volume  \n",
       "count  3.020000e+02  \n",
       "mean   6.507032e+06  \n",
       "std    3.477034e+06  \n",
       "min    1.555270e+06  \n",
       "25%    4.421368e+06  \n",
       "50%    5.770856e+06  \n",
       "75%    7.841054e+06  \n",
       "max    3.784167e+07  "
      ]
     },
     "execution_count": 12,
     "metadata": {},
     "output_type": "execute_result"
    }
   ],
   "source": [
    "rel_data.describe(include='all')            "
   ]
  },
  {
   "cell_type": "code",
   "execution_count": 13,
   "id": "5e241dee",
   "metadata": {},
   "outputs": [
    {
     "data": {
      "text/plain": [
       "Open         float64\n",
       "High         float64\n",
       "Low          float64\n",
       "Close        float64\n",
       "Adj Close    float64\n",
       "Volume         int64\n",
       "dtype: object"
      ]
     },
     "execution_count": 13,
     "metadata": {},
     "output_type": "execute_result"
    }
   ],
   "source": [
    "rel_data.dtypes # To show datatypes"
   ]
  },
  {
   "cell_type": "code",
   "execution_count": 14,
   "id": "b821d83c",
   "metadata": {},
   "outputs": [
    {
     "name": "stdout",
     "output_type": "stream",
     "text": [
      "<class 'pandas.core.frame.DataFrame'>\n",
      "DatetimeIndex: 302 entries, 2022-02-01 00:00:00+05:30 to 2023-04-21 00:00:00+05:30\n",
      "Data columns (total 6 columns):\n",
      " #   Column     Non-Null Count  Dtype  \n",
      "---  ------     --------------  -----  \n",
      " 0   Open       302 non-null    float64\n",
      " 1   High       302 non-null    float64\n",
      " 2   Low        302 non-null    float64\n",
      " 3   Close      302 non-null    float64\n",
      " 4   Adj Close  302 non-null    float64\n",
      " 5   Volume     302 non-null    int64  \n",
      "dtypes: float64(5), int64(1)\n",
      "memory usage: 16.5 KB\n"
     ]
    }
   ],
   "source": [
    "rel_data.info() # To show information about dataset"
   ]
  },
  {
   "cell_type": "markdown",
   "id": "e58157a0",
   "metadata": {},
   "source": [
    "#### Checking for null values"
   ]
  },
  {
   "cell_type": "code",
   "execution_count": 15,
   "id": "ffac1a5b",
   "metadata": {},
   "outputs": [
    {
     "data": {
      "text/plain": [
       "Open         0\n",
       "High         0\n",
       "Low          0\n",
       "Close        0\n",
       "Adj Close    0\n",
       "Volume       0\n",
       "dtype: int64"
      ]
     },
     "execution_count": 15,
     "metadata": {},
     "output_type": "execute_result"
    }
   ],
   "source": [
    "rel_data.isnull().sum()         # for no. of count of null values"
   ]
  },
  {
   "cell_type": "markdown",
   "id": "0ffe9b6c",
   "metadata": {},
   "source": [
    "* No null values are presents in this dataset."
   ]
  },
  {
   "cell_type": "markdown",
   "id": "425d1166",
   "metadata": {},
   "source": [
    "#### Correlation between attributes & features in dataset"
   ]
  },
  {
   "cell_type": "code",
   "execution_count": 16,
   "id": "1492a95f",
   "metadata": {},
   "outputs": [
    {
     "data": {
      "text/html": [
       "<div>\n",
       "<style scoped>\n",
       "    .dataframe tbody tr th:only-of-type {\n",
       "        vertical-align: middle;\n",
       "    }\n",
       "\n",
       "    .dataframe tbody tr th {\n",
       "        vertical-align: top;\n",
       "    }\n",
       "\n",
       "    .dataframe thead th {\n",
       "        text-align: right;\n",
       "    }\n",
       "</style>\n",
       "<table border=\"1\" class=\"dataframe\">\n",
       "  <thead>\n",
       "    <tr style=\"text-align: right;\">\n",
       "      <th></th>\n",
       "      <th>Open</th>\n",
       "      <th>High</th>\n",
       "      <th>Low</th>\n",
       "      <th>Close</th>\n",
       "      <th>Adj Close</th>\n",
       "      <th>Volume</th>\n",
       "    </tr>\n",
       "  </thead>\n",
       "  <tbody>\n",
       "    <tr>\n",
       "      <th>Open</th>\n",
       "      <td>1.000000</td>\n",
       "      <td>0.983649</td>\n",
       "      <td>0.983815</td>\n",
       "      <td>0.963592</td>\n",
       "      <td>0.963588</td>\n",
       "      <td>-0.081625</td>\n",
       "    </tr>\n",
       "    <tr>\n",
       "      <th>High</th>\n",
       "      <td>0.983649</td>\n",
       "      <td>1.000000</td>\n",
       "      <td>0.982422</td>\n",
       "      <td>0.987756</td>\n",
       "      <td>0.986754</td>\n",
       "      <td>-0.030462</td>\n",
       "    </tr>\n",
       "    <tr>\n",
       "      <th>Low</th>\n",
       "      <td>0.983815</td>\n",
       "      <td>0.982422</td>\n",
       "      <td>1.000000</td>\n",
       "      <td>0.984677</td>\n",
       "      <td>0.985171</td>\n",
       "      <td>-0.146124</td>\n",
       "    </tr>\n",
       "    <tr>\n",
       "      <th>Close</th>\n",
       "      <td>0.963592</td>\n",
       "      <td>0.987756</td>\n",
       "      <td>0.984677</td>\n",
       "      <td>1.000000</td>\n",
       "      <td>0.999627</td>\n",
       "      <td>-0.088621</td>\n",
       "    </tr>\n",
       "    <tr>\n",
       "      <th>Adj Close</th>\n",
       "      <td>0.963588</td>\n",
       "      <td>0.986754</td>\n",
       "      <td>0.985171</td>\n",
       "      <td>0.999627</td>\n",
       "      <td>1.000000</td>\n",
       "      <td>-0.095893</td>\n",
       "    </tr>\n",
       "    <tr>\n",
       "      <th>Volume</th>\n",
       "      <td>-0.081625</td>\n",
       "      <td>-0.030462</td>\n",
       "      <td>-0.146124</td>\n",
       "      <td>-0.088621</td>\n",
       "      <td>-0.095893</td>\n",
       "      <td>1.000000</td>\n",
       "    </tr>\n",
       "  </tbody>\n",
       "</table>\n",
       "</div>"
      ],
      "text/plain": [
       "               Open      High       Low     Close  Adj Close    Volume\n",
       "Open       1.000000  0.983649  0.983815  0.963592   0.963588 -0.081625\n",
       "High       0.983649  1.000000  0.982422  0.987756   0.986754 -0.030462\n",
       "Low        0.983815  0.982422  1.000000  0.984677   0.985171 -0.146124\n",
       "Close      0.963592  0.987756  0.984677  1.000000   0.999627 -0.088621\n",
       "Adj Close  0.963588  0.986754  0.985171  0.999627   1.000000 -0.095893\n",
       "Volume    -0.081625 -0.030462 -0.146124 -0.088621  -0.095893  1.000000"
      ]
     },
     "execution_count": 16,
     "metadata": {},
     "output_type": "execute_result"
    }
   ],
   "source": [
    "rel_data.corr()             # for corrlation between features"
   ]
  },
  {
   "cell_type": "code",
   "execution_count": 17,
   "id": "b86a288e",
   "metadata": {},
   "outputs": [
    {
     "data": {
      "text/html": [
       "<div>\n",
       "<style scoped>\n",
       "    .dataframe tbody tr th:only-of-type {\n",
       "        vertical-align: middle;\n",
       "    }\n",
       "\n",
       "    .dataframe tbody tr th {\n",
       "        vertical-align: top;\n",
       "    }\n",
       "\n",
       "    .dataframe thead th {\n",
       "        text-align: right;\n",
       "    }\n",
       "</style>\n",
       "<table border=\"1\" class=\"dataframe\">\n",
       "  <thead>\n",
       "    <tr style=\"text-align: right;\">\n",
       "      <th></th>\n",
       "      <th>Open</th>\n",
       "      <th>High</th>\n",
       "      <th>Low</th>\n",
       "      <th>Close</th>\n",
       "      <th>Adj Close</th>\n",
       "      <th>Volume</th>\n",
       "      <th>Returns</th>\n",
       "    </tr>\n",
       "    <tr>\n",
       "      <th>Date</th>\n",
       "      <th></th>\n",
       "      <th></th>\n",
       "      <th></th>\n",
       "      <th></th>\n",
       "      <th></th>\n",
       "      <th></th>\n",
       "      <th></th>\n",
       "    </tr>\n",
       "  </thead>\n",
       "  <tbody>\n",
       "    <tr>\n",
       "      <th>2022-02-01 00:00:00+05:30</th>\n",
       "      <td>2408.0</td>\n",
       "      <td>2420.600098</td>\n",
       "      <td>2347.100098</td>\n",
       "      <td>2378.699951</td>\n",
       "      <td>2371.559814</td>\n",
       "      <td>6092033</td>\n",
       "      <td>NaN</td>\n",
       "    </tr>\n",
       "    <tr>\n",
       "      <th>2022-02-02 00:00:00+05:30</th>\n",
       "      <td>2407.0</td>\n",
       "      <td>2407.000000</td>\n",
       "      <td>2375.100098</td>\n",
       "      <td>2383.550049</td>\n",
       "      <td>2376.395264</td>\n",
       "      <td>4623163</td>\n",
       "      <td>0.002039</td>\n",
       "    </tr>\n",
       "    <tr>\n",
       "      <th>2022-02-03 00:00:00+05:30</th>\n",
       "      <td>2392.0</td>\n",
       "      <td>2401.449951</td>\n",
       "      <td>2347.199951</td>\n",
       "      <td>2352.750000</td>\n",
       "      <td>2345.687744</td>\n",
       "      <td>4417864</td>\n",
       "      <td>-0.012922</td>\n",
       "    </tr>\n",
       "    <tr>\n",
       "      <th>2022-02-04 00:00:00+05:30</th>\n",
       "      <td>2341.0</td>\n",
       "      <td>2348.449951</td>\n",
       "      <td>2321.100098</td>\n",
       "      <td>2331.300049</td>\n",
       "      <td>2324.302246</td>\n",
       "      <td>5104761</td>\n",
       "      <td>-0.009117</td>\n",
       "    </tr>\n",
       "    <tr>\n",
       "      <th>2022-02-07 00:00:00+05:30</th>\n",
       "      <td>2342.0</td>\n",
       "      <td>2356.800049</td>\n",
       "      <td>2305.000000</td>\n",
       "      <td>2317.100098</td>\n",
       "      <td>2310.144775</td>\n",
       "      <td>4944725</td>\n",
       "      <td>-0.006091</td>\n",
       "    </tr>\n",
       "  </tbody>\n",
       "</table>\n",
       "</div>"
      ],
      "text/plain": [
       "                             Open         High          Low        Close  \\\n",
       "Date                                                                       \n",
       "2022-02-01 00:00:00+05:30  2408.0  2420.600098  2347.100098  2378.699951   \n",
       "2022-02-02 00:00:00+05:30  2407.0  2407.000000  2375.100098  2383.550049   \n",
       "2022-02-03 00:00:00+05:30  2392.0  2401.449951  2347.199951  2352.750000   \n",
       "2022-02-04 00:00:00+05:30  2341.0  2348.449951  2321.100098  2331.300049   \n",
       "2022-02-07 00:00:00+05:30  2342.0  2356.800049  2305.000000  2317.100098   \n",
       "\n",
       "                             Adj Close   Volume   Returns  \n",
       "Date                                                       \n",
       "2022-02-01 00:00:00+05:30  2371.559814  6092033       NaN  \n",
       "2022-02-02 00:00:00+05:30  2376.395264  4623163  0.002039  \n",
       "2022-02-03 00:00:00+05:30  2345.687744  4417864 -0.012922  \n",
       "2022-02-04 00:00:00+05:30  2324.302246  5104761 -0.009117  \n",
       "2022-02-07 00:00:00+05:30  2310.144775  4944725 -0.006091  "
      ]
     },
     "execution_count": 17,
     "metadata": {},
     "output_type": "execute_result"
    }
   ],
   "source": [
    "rel_data['Returns'] = rel_data['Adj Close'].pct_change() # percentage changes  in previous records\n",
    "rel_data.head()"
   ]
  },
  {
   "cell_type": "markdown",
   "id": "665d8ff9",
   "metadata": {},
   "source": [
    "#### Visualization\n",
    "* line Plot for the closing price "
   ]
  },
  {
   "cell_type": "code",
   "execution_count": 18,
   "id": "509ed962",
   "metadata": {},
   "outputs": [
    {
     "data": {
      "image/png": "[encoded data removed]",
      "text/plain": [
       "<Figure size 720x360 with 1 Axes>"
      ]
     },
     "metadata": {
      "needs_background": "light"
     },
     "output_type": "display_data"
    }
   ],
   "source": [
    "# plot lineplot\n",
    "plt.figure(figsize = (10,5))\n",
    "sns.lineplot(data = rel_data,x='Date',y='Adj Close')\n",
    "plt.title(f'{stock} Closing Price')\n",
    "plt.show()"
   ]
  },
  {
   "cell_type": "markdown",
   "id": "60a4caf8",
   "metadata": {},
   "source": [
    "- In march 2022 price is low & increase in may.\n",
    "\n",
    "- In feb 2023 again droped."
   ]
  },
  {
   "cell_type": "markdown",
   "id": "14fbf503",
   "metadata": {},
   "source": [
    "#### Histogram for returns"
   ]
  },
  {
   "cell_type": "code",
   "execution_count": 19,
   "id": "f253307d",
   "metadata": {},
   "outputs": [
    {
     "data": {
      "image/png": "[encoded data removed]",
      "text/plain": [
       "<Figure size 720x360 with 1 Axes>"
      ]
     },
     "metadata": {
      "needs_background": "light"
     },
     "output_type": "display_data"
    }
   ],
   "source": [
    "plt.figure(figsize = (10,5))\n",
    "sns.lineplot(data = rel_data,x='Date',y='Returns')\n",
    "plt.title('Returns Distribution')\n",
    "plt.xlabel('Returns')\n",
    "plt.show()"
   ]
  },
  {
   "cell_type": "markdown",
   "id": "6b1ac12a",
   "metadata": {},
   "source": [
    "- Return so less , approximetly no returns & in July 2022 is in losses."
   ]
  },
  {
   "cell_type": "code",
   "execution_count": 20,
   "id": "1cd3ae96",
   "metadata": {},
   "outputs": [
    {
     "data": {
      "text/plain": [
       "<AxesSubplot:xlabel='Date'>"
      ]
     },
     "execution_count": 20,
     "metadata": {},
     "output_type": "execute_result"
    },
    {
     "data": {
      "image/png": "[encoded data removed]",
      "text/plain": [
       "<Figure size 720x288 with 1 Axes>"
      ]
     },
     "metadata": {
      "needs_background": "light"
     },
     "output_type": "display_data"
    }
   ],
   "source": [
    "rel_data['Volume'].plot(legend=True,figsize=(10,4))"
   ]
  },
  {
   "cell_type": "markdown",
   "id": "32c26f4c",
   "metadata": {},
   "source": [
    "## For reading stock Market data from The Investors Exchange (IEX):\n",
    "#### Ex. 2:"
   ]
  },
  {
   "cell_type": "code",
   "execution_count": 21,
   "id": "b04f3a13",
   "metadata": {},
   "outputs": [],
   "source": [
    "os.environ[\"IEX_API_KEY\"] = \"sk_5bdb6470e57d4819a152b9fc1c6508ff\""
   ]
  },
  {
   "cell_type": "code",
   "execution_count": 22,
   "id": "1f92222d",
   "metadata": {},
   "outputs": [],
   "source": [
    "tech_stocks = ['AAPL','GOOG','MSFT','AMZN']"
   ]
  },
  {
   "cell_type": "code",
   "execution_count": 23,
   "id": "505fedea",
   "metadata": {},
   "outputs": [
    {
     "data": {
      "text/plain": [
       "datetime.datetime(2023, 4, 23, 11, 51, 43, 311468)"
      ]
     },
     "execution_count": 23,
     "metadata": {},
     "output_type": "execute_result"
    }
   ],
   "source": [
    "#setup end & start times for Data load\n",
    "end = datetime.now()\n",
    "end"
   ]
  },
  {
   "cell_type": "code",
   "execution_count": 24,
   "id": "7993e9ad",
   "metadata": {},
   "outputs": [
    {
     "data": {
      "text/plain": [
       "datetime.datetime(2022, 4, 23, 0, 0)"
      ]
     },
     "execution_count": 24,
     "metadata": {},
     "output_type": "execute_result"
    }
   ],
   "source": [
    "start = datetime(end.year - 1,end.month,end.day)\n",
    "start"
   ]
  },
  {
   "cell_type": "code",
   "execution_count": 25,
   "id": "be70c70f",
   "metadata": {},
   "outputs": [
    {
     "name": "stdout",
     "output_type": "stream",
     "text": [
      "The age is: 25\n"
     ]
    }
   ],
   "source": [
    "#ex. globals() variable\n",
    "age = 23\n",
    "globals()['age'] = 25\n",
    "print('The age is:',age)"
   ]
  },
  {
   "cell_type": "code",
   "execution_count": 26,
   "id": "4f69b6e7",
   "metadata": {},
   "outputs": [
    {
     "ename": "RemoteDataError",
     "evalue": "Unable to read URL: https://cloud.iexapis.com/stable/stock/market/batch?symbols=AAPL&types=chart&range=2y&token=sk_5bdb6470e57d4819a152b9fc1c6508ff",
     "output_type": "error",
     "traceback": [
      "\u001b[1;31m---------------------------------------------------------------------------\u001b[0m",
      "\u001b[1;31mRemoteDataError\u001b[0m                           Traceback (most recent call last)",
      "Input \u001b[1;32mIn [26]\u001b[0m, in \u001b[0;36m<cell line: 4>\u001b[1;34m()\u001b[0m\n\u001b[0;32m      1\u001b[0m \u001b[38;5;66;03m# for loop for grabing iex finance data & seting as a dataframe\u001b[39;00m\n\u001b[0;32m      2\u001b[0m \u001b[38;5;66;03m#set dataframe as the stock ticker\u001b[39;00m\n\u001b[0;32m      4\u001b[0m \u001b[38;5;28;01mfor\u001b[39;00m stock \u001b[38;5;129;01min\u001b[39;00m tech_stocks:\n\u001b[1;32m----> 5\u001b[0m      \u001b[38;5;28mglobals\u001b[39m()[stock] \u001b[38;5;241m=\u001b[39m \u001b[43mpdr\u001b[49m\u001b[38;5;241;43m.\u001b[39;49m\u001b[43mDataReader\u001b[49m\u001b[43m(\u001b[49m\u001b[43mstock\u001b[49m\u001b[43m,\u001b[49m\u001b[38;5;124;43m'\u001b[39;49m\u001b[38;5;124;43miex\u001b[39;49m\u001b[38;5;124;43m'\u001b[39;49m\u001b[43m,\u001b[49m\u001b[43mstart\u001b[49m\u001b[43m,\u001b[49m\u001b[43mend\u001b[49m\u001b[43m,\u001b[49m\u001b[43m \u001b[49m\u001b[43mapi_key\u001b[49m\u001b[43m \u001b[49m\u001b[38;5;241;43m=\u001b[39;49m\u001b[43m \u001b[49m\u001b[43mos\u001b[49m\u001b[38;5;241;43m.\u001b[39;49m\u001b[43mgetenv\u001b[49m\u001b[43m(\u001b[49m\u001b[38;5;124;43m\"\u001b[39;49m\u001b[38;5;124;43mIEX_API_KEV\u001b[39;49m\u001b[38;5;124;43m\"\u001b[39;49m\u001b[43m)\u001b[49m\u001b[43m)\u001b[49m\n",
      "File \u001b[1;32mF:\\my apps\\anaconda\\conda\\lib\\site-packages\\pandas\\util\\_decorators.py:207\u001b[0m, in \u001b[0;36mdeprecate_kwarg.<locals>._deprecate_kwarg.<locals>.wrapper\u001b[1;34m(*args, **kwargs)\u001b[0m\n\u001b[0;32m    205\u001b[0m     \u001b[38;5;28;01melse\u001b[39;00m:\n\u001b[0;32m    206\u001b[0m         kwargs[new_arg_name] \u001b[38;5;241m=\u001b[39m new_arg_value\n\u001b[1;32m--> 207\u001b[0m \u001b[38;5;28;01mreturn\u001b[39;00m func(\u001b[38;5;241m*\u001b[39margs, \u001b[38;5;241m*\u001b[39m\u001b[38;5;241m*\u001b[39mkwargs)\n",
      "File \u001b[1;32m~\\AppData\\Roaming\\Python\\Python39\\site-packages\\pandas_datareader\\data.py:382\u001b[0m, in \u001b[0;36mDataReader\u001b[1;34m(name, data_source, start, end, retry_count, pause, session, api_key)\u001b[0m\n\u001b[0;32m    370\u001b[0m     \u001b[38;5;28;01mreturn\u001b[39;00m YahooDailyReader(\n\u001b[0;32m    371\u001b[0m         symbols\u001b[38;5;241m=\u001b[39mname,\n\u001b[0;32m    372\u001b[0m         start\u001b[38;5;241m=\u001b[39mstart,\n\u001b[1;32m   (...)\u001b[0m\n\u001b[0;32m    378\u001b[0m         session\u001b[38;5;241m=\u001b[39msession,\n\u001b[0;32m    379\u001b[0m     )\u001b[38;5;241m.\u001b[39mread()\n\u001b[0;32m    381\u001b[0m \u001b[38;5;28;01melif\u001b[39;00m data_source \u001b[38;5;241m==\u001b[39m \u001b[38;5;124m\"\u001b[39m\u001b[38;5;124miex\u001b[39m\u001b[38;5;124m\"\u001b[39m:\n\u001b[1;32m--> 382\u001b[0m     \u001b[38;5;28;01mreturn\u001b[39;00m \u001b[43mIEXDailyReader\u001b[49m\u001b[43m(\u001b[49m\n\u001b[0;32m    383\u001b[0m \u001b[43m        \u001b[49m\u001b[43msymbols\u001b[49m\u001b[38;5;241;43m=\u001b[39;49m\u001b[43mname\u001b[49m\u001b[43m,\u001b[49m\n\u001b[0;32m    384\u001b[0m \u001b[43m        \u001b[49m\u001b[43mstart\u001b[49m\u001b[38;5;241;43m=\u001b[39;49m\u001b[43mstart\u001b[49m\u001b[43m,\u001b[49m\n\u001b[0;32m    385\u001b[0m \u001b[43m        \u001b[49m\u001b[43mend\u001b[49m\u001b[38;5;241;43m=\u001b[39;49m\u001b[43mend\u001b[49m\u001b[43m,\u001b[49m\n\u001b[0;32m    386\u001b[0m \u001b[43m        \u001b[49m\u001b[43mchunksize\u001b[49m\u001b[38;5;241;43m=\u001b[39;49m\u001b[38;5;241;43m25\u001b[39;49m\u001b[43m,\u001b[49m\n\u001b[0;32m    387\u001b[0m \u001b[43m        \u001b[49m\u001b[43mapi_key\u001b[49m\u001b[38;5;241;43m=\u001b[39;49m\u001b[43mapi_key\u001b[49m\u001b[43m,\u001b[49m\n\u001b[0;32m    388\u001b[0m \u001b[43m        \u001b[49m\u001b[43mretry_count\u001b[49m\u001b[38;5;241;43m=\u001b[39;49m\u001b[43mretry_count\u001b[49m\u001b[43m,\u001b[49m\n\u001b[0;32m    389\u001b[0m \u001b[43m        \u001b[49m\u001b[43mpause\u001b[49m\u001b[38;5;241;43m=\u001b[39;49m\u001b[43mpause\u001b[49m\u001b[43m,\u001b[49m\n\u001b[0;32m    390\u001b[0m \u001b[43m        \u001b[49m\u001b[43msession\u001b[49m\u001b[38;5;241;43m=\u001b[39;49m\u001b[43msession\u001b[49m\u001b[43m,\u001b[49m\n\u001b[0;32m    391\u001b[0m \u001b[43m    \u001b[49m\u001b[43m)\u001b[49m\u001b[38;5;241;43m.\u001b[39;49m\u001b[43mread\u001b[49m\u001b[43m(\u001b[49m\u001b[43m)\u001b[49m\n\u001b[0;32m    393\u001b[0m \u001b[38;5;28;01melif\u001b[39;00m data_source \u001b[38;5;241m==\u001b[39m \u001b[38;5;124m\"\u001b[39m\u001b[38;5;124miex-tops\u001b[39m\u001b[38;5;124m\"\u001b[39m:\n\u001b[0;32m    394\u001b[0m     \u001b[38;5;28;01mreturn\u001b[39;00m IEXTops(\n\u001b[0;32m    395\u001b[0m         symbols\u001b[38;5;241m=\u001b[39mname,\n\u001b[0;32m    396\u001b[0m         start\u001b[38;5;241m=\u001b[39mstart,\n\u001b[1;32m   (...)\u001b[0m\n\u001b[0;32m    400\u001b[0m         session\u001b[38;5;241m=\u001b[39msession,\n\u001b[0;32m    401\u001b[0m     )\u001b[38;5;241m.\u001b[39mread()\n",
      "File \u001b[1;32m~\\AppData\\Roaming\\Python\\Python39\\site-packages\\pandas_datareader\\iex\\daily.py:143\u001b[0m, in \u001b[0;36mIEXDailyReader.read\u001b[1;34m(self)\u001b[0m\n\u001b[0;32m    141\u001b[0m \u001b[38;5;124;03m\"\"\"Read data\"\"\"\u001b[39;00m\n\u001b[0;32m    142\u001b[0m \u001b[38;5;28;01mtry\u001b[39;00m:\n\u001b[1;32m--> 143\u001b[0m     \u001b[38;5;28;01mreturn\u001b[39;00m \u001b[38;5;28;43mself\u001b[39;49m\u001b[38;5;241;43m.\u001b[39;49m\u001b[43m_read_one_data\u001b[49m\u001b[43m(\u001b[49m\u001b[38;5;28;43mself\u001b[39;49m\u001b[38;5;241;43m.\u001b[39;49m\u001b[43murl\u001b[49m\u001b[43m,\u001b[49m\u001b[43m \u001b[49m\u001b[38;5;28;43mself\u001b[39;49m\u001b[38;5;241;43m.\u001b[39;49m\u001b[43m_get_params\u001b[49m\u001b[43m(\u001b[49m\u001b[38;5;28;43mself\u001b[39;49m\u001b[38;5;241;43m.\u001b[39;49m\u001b[43msymbols\u001b[49m\u001b[43m)\u001b[49m\u001b[43m)\u001b[49m\n\u001b[0;32m    144\u001b[0m \u001b[38;5;28;01mfinally\u001b[39;00m:\n\u001b[0;32m    145\u001b[0m     \u001b[38;5;28mself\u001b[39m\u001b[38;5;241m.\u001b[39mclose()\n",
      "File \u001b[1;32m~\\AppData\\Roaming\\Python\\Python39\\site-packages\\pandas_datareader\\base.py:108\u001b[0m, in \u001b[0;36m_BaseReader._read_one_data\u001b[1;34m(self, url, params)\u001b[0m\n\u001b[0;32m    106\u001b[0m \u001b[38;5;124;03m\"\"\"read one data from specified URL\"\"\"\u001b[39;00m\n\u001b[0;32m    107\u001b[0m \u001b[38;5;28;01mif\u001b[39;00m \u001b[38;5;28mself\u001b[39m\u001b[38;5;241m.\u001b[39m_format \u001b[38;5;241m==\u001b[39m \u001b[38;5;124m\"\u001b[39m\u001b[38;5;124mstring\u001b[39m\u001b[38;5;124m\"\u001b[39m:\n\u001b[1;32m--> 108\u001b[0m     out \u001b[38;5;241m=\u001b[39m \u001b[38;5;28;43mself\u001b[39;49m\u001b[38;5;241;43m.\u001b[39;49m\u001b[43m_read_url_as_StringIO\u001b[49m\u001b[43m(\u001b[49m\u001b[43murl\u001b[49m\u001b[43m,\u001b[49m\u001b[43m \u001b[49m\u001b[43mparams\u001b[49m\u001b[38;5;241;43m=\u001b[39;49m\u001b[43mparams\u001b[49m\u001b[43m)\u001b[49m\n\u001b[0;32m    109\u001b[0m \u001b[38;5;28;01melif\u001b[39;00m \u001b[38;5;28mself\u001b[39m\u001b[38;5;241m.\u001b[39m_format \u001b[38;5;241m==\u001b[39m \u001b[38;5;124m\"\u001b[39m\u001b[38;5;124mjson\u001b[39m\u001b[38;5;124m\"\u001b[39m:\n\u001b[0;32m    110\u001b[0m     out \u001b[38;5;241m=\u001b[39m \u001b[38;5;28mself\u001b[39m\u001b[38;5;241m.\u001b[39m_get_response(url, params\u001b[38;5;241m=\u001b[39mparams)\u001b[38;5;241m.\u001b[39mjson()\n",
      "File \u001b[1;32m~\\AppData\\Roaming\\Python\\Python39\\site-packages\\pandas_datareader\\base.py:119\u001b[0m, in \u001b[0;36m_BaseReader._read_url_as_StringIO\u001b[1;34m(self, url, params)\u001b[0m\n\u001b[0;32m    115\u001b[0m \u001b[38;5;28;01mdef\u001b[39;00m \u001b[38;5;21m_read_url_as_StringIO\u001b[39m(\u001b[38;5;28mself\u001b[39m, url, params\u001b[38;5;241m=\u001b[39m\u001b[38;5;28;01mNone\u001b[39;00m):\n\u001b[0;32m    116\u001b[0m     \u001b[38;5;124;03m\"\"\"\u001b[39;00m\n\u001b[0;32m    117\u001b[0m \u001b[38;5;124;03m    Open url (and retry)\u001b[39;00m\n\u001b[0;32m    118\u001b[0m \u001b[38;5;124;03m    \"\"\"\u001b[39;00m\n\u001b[1;32m--> 119\u001b[0m     response \u001b[38;5;241m=\u001b[39m \u001b[38;5;28;43mself\u001b[39;49m\u001b[38;5;241;43m.\u001b[39;49m\u001b[43m_get_response\u001b[49m\u001b[43m(\u001b[49m\u001b[43murl\u001b[49m\u001b[43m,\u001b[49m\u001b[43m \u001b[49m\u001b[43mparams\u001b[49m\u001b[38;5;241;43m=\u001b[39;49m\u001b[43mparams\u001b[49m\u001b[43m)\u001b[49m\n\u001b[0;32m    120\u001b[0m     text \u001b[38;5;241m=\u001b[39m \u001b[38;5;28mself\u001b[39m\u001b[38;5;241m.\u001b[39m_sanitize_response(response)\n\u001b[0;32m    121\u001b[0m     out \u001b[38;5;241m=\u001b[39m StringIO()\n",
      "File \u001b[1;32m~\\AppData\\Roaming\\Python\\Python39\\site-packages\\pandas_datareader\\base.py:181\u001b[0m, in \u001b[0;36m_BaseReader._get_response\u001b[1;34m(self, url, params, headers)\u001b[0m\n\u001b[0;32m    178\u001b[0m \u001b[38;5;28;01mif\u001b[39;00m last_response_text:\n\u001b[0;32m    179\u001b[0m     msg \u001b[38;5;241m+\u001b[39m\u001b[38;5;241m=\u001b[39m \u001b[38;5;124m\"\u001b[39m\u001b[38;5;130;01m\\n\u001b[39;00m\u001b[38;5;124mResponse Text:\u001b[39m\u001b[38;5;130;01m\\n\u001b[39;00m\u001b[38;5;132;01m{0}\u001b[39;00m\u001b[38;5;124m\"\u001b[39m\u001b[38;5;241m.\u001b[39mformat(last_response_text)\n\u001b[1;32m--> 181\u001b[0m \u001b[38;5;28;01mraise\u001b[39;00m RemoteDataError(msg)\n",
      "\u001b[1;31mRemoteDataError\u001b[0m: Unable to read URL: https://cloud.iexapis.com/stable/stock/market/batch?symbols=AAPL&types=chart&range=2y&token=sk_5bdb6470e57d4819a152b9fc1c6508ff"
     ]
    }
   ],
   "source": [
    "# for loop for grabing iex finance data & seting as a dataframe\n",
    "#set dataframe as the stock ticker\n",
    "\n",
    "for stock in tech_stocks:\n",
    "     globals()[stock] = pdr.DataReader(stock,'iex',start,end, api_key = os.getenv(\"IEX_API_KEV\"))\n"
   ]
  },
  {
   "cell_type": "markdown",
   "id": "142c1e9f",
   "metadata": {},
   "source": [
    "### 1. For Amazon:"
   ]
  },
  {
   "cell_type": "code",
   "execution_count": 27,
   "id": "adfee987",
   "metadata": {},
   "outputs": [
    {
     "ename": "NameError",
     "evalue": "name 'AMZN' is not defined",
     "output_type": "error",
     "traceback": [
      "\u001b[1;31m---------------------------------------------------------------------------\u001b[0m",
      "\u001b[1;31mNameError\u001b[0m                                 Traceback (most recent call last)",
      "Input \u001b[1;32mIn [27]\u001b[0m, in \u001b[0;36m<cell line: 1>\u001b[1;34m()\u001b[0m\n\u001b[1;32m----> 1\u001b[0m \u001b[43mAMZN\u001b[49m\u001b[38;5;241m.\u001b[39mhead()\n",
      "\u001b[1;31mNameError\u001b[0m: name 'AMZN' is not defined"
     ]
    }
   ],
   "source": [
    "AMZN.head()"
   ]
  },
  {
   "cell_type": "code",
   "execution_count": 58,
   "id": "58e06085",
   "metadata": {},
   "outputs": [
    {
     "ename": "NameError",
     "evalue": "name 'AMZN' is not defined",
     "output_type": "error",
     "traceback": [
      "\u001b[1;31m---------------------------------------------------------------------------\u001b[0m",
      "\u001b[1;31mNameError\u001b[0m                                 Traceback (most recent call last)",
      "Input \u001b[1;32mIn [58]\u001b[0m, in \u001b[0;36m<cell line: 1>\u001b[1;34m()\u001b[0m\n\u001b[1;32m----> 1\u001b[0m \u001b[43mAMZN\u001b[49m\u001b[38;5;241m.\u001b[39mshape\n",
      "\u001b[1;31mNameError\u001b[0m: name 'AMZN' is not defined"
     ]
    }
   ],
   "source": [
    "AMZN.shape"
   ]
  },
  {
   "cell_type": "code",
   "execution_count": 59,
   "id": "f1728984",
   "metadata": {},
   "outputs": [
    {
     "ename": "NameError",
     "evalue": "name 'AMZN' is not defined",
     "output_type": "error",
     "traceback": [
      "\u001b[1;31m---------------------------------------------------------------------------\u001b[0m",
      "\u001b[1;31mNameError\u001b[0m                                 Traceback (most recent call last)",
      "Input \u001b[1;32mIn [59]\u001b[0m, in \u001b[0;36m<cell line: 1>\u001b[1;34m()\u001b[0m\n\u001b[1;32m----> 1\u001b[0m \u001b[43mAMZN\u001b[49m\u001b[38;5;241m.\u001b[39mdescribe()\n",
      "\u001b[1;31mNameError\u001b[0m: name 'AMZN' is not defined"
     ]
    }
   ],
   "source": [
    "AMZN.describe()"
   ]
  },
  {
   "cell_type": "markdown",
   "id": "1db5cc36",
   "metadata": {},
   "source": [
    "### 2. For Apple:"
   ]
  },
  {
   "cell_type": "code",
   "execution_count": 60,
   "id": "1bd3935f",
   "metadata": {},
   "outputs": [
    {
     "ename": "NameError",
     "evalue": "name 'AAPL' is not defined",
     "output_type": "error",
     "traceback": [
      "\u001b[1;31m---------------------------------------------------------------------------\u001b[0m",
      "\u001b[1;31mNameError\u001b[0m                                 Traceback (most recent call last)",
      "Input \u001b[1;32mIn [60]\u001b[0m, in \u001b[0;36m<cell line: 1>\u001b[1;34m()\u001b[0m\n\u001b[1;32m----> 1\u001b[0m \u001b[43mAAPL\u001b[49m\u001b[38;5;241m.\u001b[39mhead()\n",
      "\u001b[1;31mNameError\u001b[0m: name 'AAPL' is not defined"
     ]
    }
   ],
   "source": [
    "AAPL.head()"
   ]
  },
  {
   "cell_type": "code",
   "execution_count": 61,
   "id": "748b4647",
   "metadata": {},
   "outputs": [
    {
     "ename": "NameError",
     "evalue": "name 'AAPL' is not defined",
     "output_type": "error",
     "traceback": [
      "\u001b[1;31m---------------------------------------------------------------------------\u001b[0m",
      "\u001b[1;31mNameError\u001b[0m                                 Traceback (most recent call last)",
      "Input \u001b[1;32mIn [61]\u001b[0m, in \u001b[0;36m<cell line: 1>\u001b[1;34m()\u001b[0m\n\u001b[1;32m----> 1\u001b[0m \u001b[43mAAPL\u001b[49m\u001b[38;5;241m.\u001b[39mdescribe()\n",
      "\u001b[1;31mNameError\u001b[0m: name 'AAPL' is not defined"
     ]
    }
   ],
   "source": [
    "AAPL.describe()"
   ]
  },
  {
   "cell_type": "markdown",
   "id": "6a1b5925",
   "metadata": {},
   "source": [
    "#### 3. For Microsoft"
   ]
  },
  {
   "cell_type": "code",
   "execution_count": 62,
   "id": "8e08f8e6",
   "metadata": {},
   "outputs": [
    {
     "ename": "NameError",
     "evalue": "name 'MSFT' is not defined",
     "output_type": "error",
     "traceback": [
      "\u001b[1;31m---------------------------------------------------------------------------\u001b[0m",
      "\u001b[1;31mNameError\u001b[0m                                 Traceback (most recent call last)",
      "Input \u001b[1;32mIn [62]\u001b[0m, in \u001b[0;36m<cell line: 1>\u001b[1;34m()\u001b[0m\n\u001b[1;32m----> 1\u001b[0m \u001b[43mMSFT\u001b[49m\u001b[38;5;241m.\u001b[39mhead()\n",
      "\u001b[1;31mNameError\u001b[0m: name 'MSFT' is not defined"
     ]
    }
   ],
   "source": [
    "MSFT.head()"
   ]
  },
  {
   "cell_type": "code",
   "execution_count": 63,
   "id": "e8d9a6a2",
   "metadata": {},
   "outputs": [
    {
     "ename": "NameError",
     "evalue": "name 'MSFT' is not defined",
     "output_type": "error",
     "traceback": [
      "\u001b[1;31m---------------------------------------------------------------------------\u001b[0m",
      "\u001b[1;31mNameError\u001b[0m                                 Traceback (most recent call last)",
      "Input \u001b[1;32mIn [63]\u001b[0m, in \u001b[0;36m<cell line: 1>\u001b[1;34m()\u001b[0m\n\u001b[1;32m----> 1\u001b[0m \u001b[43mMSFT\u001b[49m\u001b[38;5;241m.\u001b[39mdescribe()\n",
      "\u001b[1;31mNameError\u001b[0m: name 'MSFT' is not defined"
     ]
    }
   ],
   "source": [
    "MSFT.describe()"
   ]
  },
  {
   "cell_type": "markdown",
   "id": "0b6229dd",
   "metadata": {},
   "source": [
    "#### 4.For google"
   ]
  },
  {
   "cell_type": "code",
   "execution_count": 64,
   "id": "c2363287",
   "metadata": {},
   "outputs": [
    {
     "ename": "NameError",
     "evalue": "name 'GOOG' is not defined",
     "output_type": "error",
     "traceback": [
      "\u001b[1;31m---------------------------------------------------------------------------\u001b[0m",
      "\u001b[1;31mNameError\u001b[0m                                 Traceback (most recent call last)",
      "Input \u001b[1;32mIn [64]\u001b[0m, in \u001b[0;36m<cell line: 1>\u001b[1;34m()\u001b[0m\n\u001b[1;32m----> 1\u001b[0m \u001b[43mGOOG\u001b[49m\u001b[38;5;241m.\u001b[39mhead()\n",
      "\u001b[1;31mNameError\u001b[0m: name 'GOOG' is not defined"
     ]
    }
   ],
   "source": [
    "GOOG.head()"
   ]
  },
  {
   "cell_type": "code",
   "execution_count": null,
   "id": "e27649d8",
   "metadata": {},
   "outputs": [],
   "source": [
    "GOOG.shape"
   ]
  },
  {
   "cell_type": "code",
   "execution_count": null,
   "id": "9fd9be43",
   "metadata": {},
   "outputs": [],
   "source": [
    "GOOG.describe()"
   ]
  },
  {
   "cell_type": "code",
   "execution_count": null,
   "id": "d0f724fe",
   "metadata": {},
   "outputs": [],
   "source": [
    "AAPL.columns"
   ]
  },
  {
   "cell_type": "markdown",
   "id": "71362257",
   "metadata": {},
   "source": [
    "## Lets see a Historical view of the closing price:\n",
    "### 1. What was the change in price of the stock over time?\n"
   ]
  },
  {
   "cell_type": "code",
   "execution_count": null,
   "id": "20da9d72",
   "metadata": {},
   "outputs": [],
   "source": [
    "#closing price for apple\n",
    "AAPL['close'].plot(legend = True,figsize = (12,6))"
   ]
  },
  {
   "cell_type": "code",
   "execution_count": null,
   "id": "4e35e9af",
   "metadata": {},
   "outputs": [],
   "source": [
    "#closing price for amazon\n",
    "AMZN['close'].plot(legend = True,figsize = (12,6))"
   ]
  },
  {
   "cell_type": "code",
   "execution_count": null,
   "id": "9dfec3c2",
   "metadata": {},
   "outputs": [],
   "source": [
    "#closing price for google\n",
    "GOOG['close'].plot(legend = True,figsize = (12,6))"
   ]
  },
  {
   "cell_type": "code",
   "execution_count": null,
   "id": "b0617aaa",
   "metadata": {},
   "outputs": [],
   "source": [
    "#closing price for microsoft\n",
    "MSFT['close'].plot(legend = True,figsize = (12,6))"
   ]
  },
  {
   "cell_type": "markdown",
   "id": "fd20bc4d",
   "metadata": {},
   "source": [
    "- All stocks are down\n",
    "- Amozon most fallen down"
   ]
  },
  {
   "cell_type": "markdown",
   "id": "b27ffd70",
   "metadata": {},
   "source": [
    "### Now lets plot the total volume of stock  being traded each day over the past 5 years:"
   ]
  },
  {
   "cell_type": "code",
   "execution_count": null,
   "id": "9b293352",
   "metadata": {},
   "outputs": [],
   "source": [
    "AAPL['volume'].plot(legend = True,figsize = (12,6))\n",
    "plt.show()"
   ]
  },
  {
   "cell_type": "code",
   "execution_count": null,
   "id": "d75b39dd",
   "metadata": {},
   "outputs": [],
   "source": [
    "GOOG['volume'].plot(legend = True,figsize = (12,6))\n",
    "plt.show()"
   ]
  },
  {
   "cell_type": "code",
   "execution_count": null,
   "id": "dab1b164",
   "metadata": {},
   "outputs": [],
   "source": [
    "AMZN['volume'].plot(legend = True,figsize = (12,6))\n",
    "plt.show()"
   ]
  },
  {
   "cell_type": "code",
   "execution_count": null,
   "id": "65ae591f",
   "metadata": {},
   "outputs": [],
   "source": [
    "MSFT['volume'].plot(legend = True,figsize = (12,6))\n",
    "plt.show()"
   ]
  },
  {
   "cell_type": "markdown",
   "id": "84827416",
   "metadata": {},
   "source": [
    "### 3. What was the moving average of the various stocks?\n",
    "\n",
    "### Now that we will seen the visualizations for the closing price and the volume traded each day,lets go and calculate the moving average for the stock."
   ]
  },
  {
   "cell_type": "markdown",
   "id": "f3d0ce5c",
   "metadata": {},
   "source": [
    "#### \"Moving Average=MA \"\n",
    "A moving average (MA) is a widely used indicator in technical analysis that helps smooth out price action by filtering out the 'noice from random price fluctuations.Its a trend-following,or lagging,indicator because it is based on past price.'"
   ]
  },
  {
   "cell_type": "markdown",
   "id": "d434be9a",
   "metadata": {},
   "source": [
    "#### Lets go ahead and plot out several moving average"
   ]
  },
  {
   "cell_type": "code",
   "execution_count": null,
   "id": "739917b3",
   "metadata": {},
   "outputs": [],
   "source": [
    "ma_day = [10,20,50]"
   ]
  },
  {
   "cell_type": "code",
   "execution_count": null,
   "id": "0685f590",
   "metadata": {},
   "outputs": [],
   "source": [
    "# For apple\n",
    "for ma in ma_day:\n",
    "    col_name = 'MA for %s days' %(str(ma))\n",
    "    AAPL[col_name] = pd.DataFrame.rolling(AAPL['close'],ma).mean()"
   ]
  },
  {
   "cell_type": "code",
   "execution_count": null,
   "id": "3959ee06",
   "metadata": {},
   "outputs": [],
   "source": [
    "AAPL.head(25)"
   ]
  },
  {
   "cell_type": "code",
   "execution_count": null,
   "id": "c24b616e",
   "metadata": {},
   "outputs": [],
   "source": [
    "AAPL[['close','MA for 10 days','MA for 20 days','MA for 50 days']].plot(subplots = False,figsize = (12,6))\n",
    "plt.show()"
   ]
  },
  {
   "cell_type": "code",
   "execution_count": null,
   "id": "e49900ed",
   "metadata": {},
   "outputs": [],
   "source": [
    "AAPL[['close','MA for 10 days','MA for 20 days','MA for 50 days']].plot(subplots = True,figsize = (12,6))"
   ]
  },
  {
   "cell_type": "code",
   "execution_count": null,
   "id": "c81f31e4",
   "metadata": {},
   "outputs": [],
   "source": [
    "# For google\n",
    "for ma in ma_day:\n",
    "    col_name = 'MA for %s days' %(str(ma))\n",
    "    GOOG[col_name] = pd.DataFrame.rolling(GOOG['close'],ma).mean()\n",
    "GOOG.head(15)"
   ]
  },
  {
   "cell_type": "code",
   "execution_count": null,
   "id": "8e7c7b5f",
   "metadata": {},
   "outputs": [],
   "source": [
    "GOOG[['close','MA for 10 days','MA for 20 days','MA for 50 days']].plot(subplots = False,figsize = (12,6))\n",
    "plt.show()"
   ]
  },
  {
   "cell_type": "code",
   "execution_count": null,
   "id": "53d3850e",
   "metadata": {},
   "outputs": [],
   "source": [
    "# For Microsoft\n",
    "for ma in ma_day:\n",
    "    col_name = 'MA for %s days' %(str(ma))\n",
    "    MSFT[col_name] = pd.DataFrame.rolling(MSFT['close'],ma).mean()\n",
    "\n",
    "MSFT.head(10)"
   ]
  },
  {
   "cell_type": "code",
   "execution_count": null,
   "id": "b004e5da",
   "metadata": {},
   "outputs": [],
   "source": [
    "MSFT[['close','MA for 10 days','MA for 20 days','MA for 50 days']].plot(subplots = False,figsize = (12,6))\n",
    "plt.show()"
   ]
  },
  {
   "cell_type": "code",
   "execution_count": null,
   "id": "4bd49413",
   "metadata": {},
   "outputs": [],
   "source": [
    "# For amazon\n",
    "for ma in ma_day:\n",
    "    col_name = 'MA for %s days' %(str(ma))\n",
    "    AMZN[col_name] = pd.DataFrame.rolling(AMZN['close'],ma).mean()\n",
    "    \n",
    "AMZN.head(10)"
   ]
  },
  {
   "cell_type": "code",
   "execution_count": null,
   "id": "b6a1e86f",
   "metadata": {},
   "outputs": [],
   "source": [
    "AMZN[['close','MA for 10 days','MA for 20 days','MA for 50 days']].plot(subplots = False,figsize = (12,6))\n",
    "plt.show()"
   ]
  },
  {
   "cell_type": "markdown",
   "id": "734f846a",
   "metadata": {},
   "source": [
    "### Daily Return Analysis\n",
    "Now that we've done some baseline analysis, let's go ahead and dive a little deeper. We're now going to analyze the risk of the stock. In order to do so we'll need to take a closer look at the daily changes of the stock, and not just its absolute value. Let's go ahead and use pandas to retrieve the daily returns for the Apple stock."
   ]
  },
  {
   "cell_type": "code",
   "execution_count": null,
   "id": "be62377f",
   "metadata": {},
   "outputs": [],
   "source": [
    "AAPL.head()"
   ]
  },
  {
   "cell_type": "code",
   "execution_count": null,
   "id": "a9c57393",
   "metadata": {},
   "outputs": [],
   "source": [
    "AAPL['Daily Return'] = AAPL['close'].pct_change()\n",
    "AAPL.head(15)"
   ]
  },
  {
   "cell_type": "code",
   "execution_count": null,
   "id": "68ecf364",
   "metadata": {},
   "outputs": [],
   "source": [
    "AAPL['Daily Return'].plot(figsize = (12,6),legend = True,linestyle = '--',marker = 'o')"
   ]
  },
  {
   "cell_type": "markdown",
   "id": "f3908e56",
   "metadata": {},
   "source": [
    "**Obeservation**:"
   ]
  },
  {
   "cell_type": "markdown",
   "id": "e1dbe33b",
   "metadata": {},
   "source": [
    "### Now lets get an overall look at the average daily returns using a histogram. We will use seabron to create both a hostogram and kde plot on the same figure."
   ]
  },
  {
   "cell_type": "code",
   "execution_count": null,
   "id": "eada82f8",
   "metadata": {},
   "outputs": [],
   "source": [
    "sns.distplot(AAPL['Daily Return'].dropna(),bins = 100,color ='blue')\n",
    "plt.show()"
   ]
  },
  {
   "cell_type": "markdown",
   "id": "ad4075ce",
   "metadata": {},
   "source": [
    "- its a normal distribution no returns"
   ]
  },
  {
   "cell_type": "markdown",
   "id": "085a5417",
   "metadata": {},
   "source": [
    "### Now want to analyze the returns of all the stocks in our list. Lets go ahead and build a DataFrame with all the ['close'] columns for each of the stocks dataframes."
   ]
  },
  {
   "cell_type": "code",
   "execution_count": null,
   "id": "225894ed",
   "metadata": {},
   "outputs": [],
   "source": [
    "closing_df1 = pd.DataFrame(AAPL['close'])\n",
    "close1  = closing_df1.rename(columns = {\"close\":\"AAPL_close\"})\n",
    "\n",
    "closing_df2 = pd.DataFrame(AAPL['close'])\n",
    "close2  = closing_df2.rename(columns= {\"close\":\"GOOG_close\"})\n",
    "\n",
    "closing_df3 = pd.DataFrame(AAPL['close'])\n",
    "close3  = closing_df3.rename(columns= {\"close\":\"MSFT_close\"})\n",
    "\n",
    "closing_df4 = pd.DataFrame(AAPL['close'])\n",
    "close4  = closing_df4.rename(columns= {\"close\":\"AMZN_close\"})\n",
    "\n",
    "closing_df = pd.concat([close1,close2,close3,close4],axis = 1)"
   ]
  },
  {
   "cell_type": "code",
   "execution_count": null,
   "id": "463899a0",
   "metadata": {},
   "outputs": [],
   "source": [
    "closing_df.head()"
   ]
  },
  {
   "cell_type": "markdown",
   "id": "5e117441",
   "metadata": {},
   "source": [
    "### Now That we have all the closing price, lets go ahead and get the daily return for all the stocks. "
   ]
  },
  {
   "cell_type": "code",
   "execution_count": null,
   "id": "0efa74c2",
   "metadata": {},
   "outputs": [],
   "source": [
    "# make a new tech return Dataframe\n",
    "tech_returns = closing_df.pct_change()\n",
    "tech_returns.head()"
   ]
  },
  {
   "cell_type": "markdown",
   "id": "aa870d57",
   "metadata": {},
   "source": [
    "### Now we compare the daily percentage return of two stocks to check how correlated. First lets see a stock compared to itsrlf."
   ]
  },
  {
   "cell_type": "code",
   "execution_count": null,
   "id": "a8de1e73",
   "metadata": {},
   "outputs": [],
   "source": [
    "#Compairring google to itself should show a perfecttly linear relationship.\n",
    "sns.jointplot('GOOG_close','GOOG_close',tech_returns,kind = 'scatter', color = 'seagreen')"
   ]
  },
  {
   "cell_type": "markdown",
   "id": "9a0beb27",
   "metadata": {},
   "source": [
    "### So now we can see that if two stocks are perfectly (and posively)correlated with each other a linear relationship between its daily return values should occur. so lets go ahead and compare Google and Microsoft the same way."
   ]
  },
  {
   "cell_type": "code",
   "execution_count": null,
   "id": "e1469e3f",
   "metadata": {},
   "outputs": [],
   "source": [
    "sns.jointplot('GOOG_close','MSFT_close',tech_returns,kind ='scatter',color='seagreen')\n",
    "plt.show()"
   ]
  },
  {
   "cell_type": "markdown",
   "id": "f5725c69",
   "metadata": {},
   "source": [
    "- Python's Seaborn and pandas packages make it very easy to repeat this comparison analysis for every possible combination of stocks in our technology stock ticker list. We can use sns.pairplot() to automatically create this plot."
   ]
  },
  {
   "cell_type": "code",
   "execution_count": null,
   "id": "27357577",
   "metadata": {},
   "outputs": [],
   "source": [
    "sns.pairplot(tech_returns.dropna())\n",
    "plt.show()"
   ]
  },
  {
   "cell_type": "markdown",
   "id": "c62e0357",
   "metadata": {},
   "source": [
    "*  all are positively correlated"
   ]
  },
  {
   "cell_type": "markdown",
   "id": "e0e1e30e",
   "metadata": {},
   "source": [
    "- Finally, we could also do a correlation plot, to get actual numerical values for the correlation between the stocks' daily return values."
   ]
  },
  {
   "cell_type": "code",
   "execution_count": null,
   "id": "d58eaa1d",
   "metadata": {},
   "outputs": [],
   "source": [
    "corr = tech_returns.dropna().corr()\n",
    "\n",
    "sns.heatmap(corr,annot = True)\n",
    "plt.show()"
   ]
  },
  {
   "cell_type": "markdown",
   "id": "0d9c52c3",
   "metadata": {},
   "source": [
    "This means for every initial stock you purchase, you are puttong about $37.38 at risk% of the time from our Monte Cartlo Simulation."
   ]
  },
  {
   "cell_type": "code",
   "execution_count": null,
   "id": "734fe09f",
   "metadata": {},
   "outputs": [],
   "source": []
  },
  {
   "cell_type": "code",
   "execution_count": null,
   "id": "a1afe5cb",
   "metadata": {},
   "outputs": [],
   "source": []
  }
 ],
 "metadata": {
  "kernelspec": {
   "display_name": "Python 3 (ipykernel)",
   "language": "python",
   "name": "python3"
  },
  "language_info": {
   "codemirror_mode": {
    "name": "ipython",
    "version": 3
   },
   "file_extension": ".py",
   "mimetype": "text/x-python",
   "name": "python",
   "nbconvert_exporter": "python",
   "pygments_lexer": "ipython3",
   "version": "3.9.12"
  }
 },
 "nbformat": 4,
 "nbformat_minor": 5
}
